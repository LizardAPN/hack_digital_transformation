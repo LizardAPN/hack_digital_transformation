{
 "cells": [
  {
   "cell_type": "markdown",
   "id": "2f11dabb",
   "metadata": {},
   "source": [
    "# Подготовка ноутбука "
   ]
  },
  {
   "cell_type": "markdown",
   "id": "85f07fbd",
   "metadata": {},
   "source": [
    "## Пробрасываем magic methods"
   ]
  },
  {
   "cell_type": "code",
   "execution_count": null,
   "id": "97feaebc",
   "metadata": {},
   "outputs": [],
   "source": [
    "%load_ext autoreload\n",
    "%autoreload 2\n",
    "%reload_ext autoreload"
   ]
  },
  {
   "cell_type": "markdown",
   "id": "a5324521",
   "metadata": {},
   "source": [
    "## Imports"
   ]
  },
  {
   "cell_type": "code",
   "execution_count": null,
   "id": "cd10fe31",
   "metadata": {},
   "outputs": [],
   "source": [
    "import pandas as pd \n",
    "import numpy as np \n",
    "from utils.s3 import s3_download_file, get_s3_client, s3_list_files\n",
    "from utils.zip import extract_zip_advanced, move_and_remove_files\n",
    "from dotenv import load_dotenv\n",
    "import os \n",
    "from pathlib import Path\n",
    "from warnings import filterwarnings \n",
    "import torch \n",
    "import torchvision\n",
    "from IPython.display import display\n",
    "import shutil"
   ]
  },
  {
   "cell_type": "markdown",
   "id": "8f5e2582",
   "metadata": {},
   "source": [
    "## Нужные переменные "
   ]
  },
  {
   "cell_type": "code",
   "execution_count": null,
   "id": "e7ef1558",
   "metadata": {},
   "outputs": [],
   "source": [
    "ROOT_DIR = Path('../../')\n",
    "load_dotenv()\n",
    "filterwarnings(action='ignore')"
   ]
  },
  {
   "cell_type": "markdown",
   "id": "6dee36be",
   "metadata": {},
   "source": [
    "# Загрузка датафрейма"
   ]
  },
  {
   "cell_type": "markdown",
   "id": "6f57eefa",
   "metadata": {},
   "source": [
    "## Пробрасываем креды"
   ]
  },
  {
   "cell_type": "code",
   "execution_count": null,
   "id": "710e8acd",
   "metadata": {},
   "outputs": [],
   "source": [
    "get_s3_client()"
   ]
  },
  {
   "cell_type": "markdown",
   "id": "19dd2ac7",
   "metadata": {},
   "source": [
    "## Смотрим, что есть в хранилище "
   ]
  },
  {
   "cell_type": "code",
   "execution_count": null,
   "id": "6828103c",
   "metadata": {},
   "outputs": [],
   "source": [
    "s3_list_files()"
   ]
  },
  {
   "cell_type": "markdown",
   "id": "d114282f",
   "metadata": {},
   "source": [
    "## Загружаем из s3"
   ]
  },
  {
   "cell_type": "code",
   "execution_count": null,
   "id": "3873ab2e",
   "metadata": {},
   "outputs": [],
   "source": [
    "s3_download_file(file_s3_src='data/Датасет.zip', \n",
    "                 file_local_dst=ROOT_DIR / 'data/raw_data/data.zip', \n",
    "                 bucket_name='s3-dvc',)"
   ]
  },
  {
   "cell_type": "markdown",
   "id": "f099d5a8",
   "metadata": {},
   "source": [
    "## Извлекаем из zip"
   ]
  },
  {
   "cell_type": "code",
   "execution_count": null,
   "id": "3dd1a20c",
   "metadata": {},
   "outputs": [],
   "source": [
    "extract_zip_advanced(zip_path=ROOT_DIR / 'data/raw_data/data.zip',\n",
    "                     extract_to=ROOT_DIR / 'data/raw_data/data',\n",
    "                     remove_after_extract=True,)"
   ]
  },
  {
   "cell_type": "code",
   "execution_count": null,
   "id": "7547d287",
   "metadata": {},
   "outputs": [],
   "source": [
    "extract_zip_advanced(zip_path=ROOT_DIR / 'data/raw_data/data/Датасет/Любые объекты.zip',\n",
    "                     extract_to=ROOT_DIR / 'data/raw_data/data/any_objects',\n",
    "                     remove_after_extract=True,)\n",
    "\n",
    "# После загрузки мы перенесем фотки из ïεíδÑ «íΩÑ¬Γδ в корневую any_objects\n",
    "source_dir = ROOT_DIR / 'data/raw_data/data/any_objects/ïεíδÑ «íΩÑ¬Γδ'\n",
    "destination_dir = ROOT_DIR / 'data/raw_data/data/any_objects/'\n",
    "\n",
    "move_and_remove_files(source_dir=source_dir, \n",
    "                      destination_dir=destination_dir,\n",
    "                      remove_after_move=True)\n"
   ]
  },
  {
   "cell_type": "code",
   "execution_count": null,
   "id": "a8820b85",
   "metadata": {},
   "outputs": [],
   "source": [
    "extract_zip_advanced(zip_path=ROOT_DIR / 'data/raw_data/data/Датасет/Метаданные.zip',\n",
    "                     extract_to=ROOT_DIR / 'data/raw_data/data/metadata',\n",
    "                     remove_after_extract=True,)\n",
    "\n",
    "# Переносим в корневую metadata\n",
    "destination_dir = ROOT_DIR / 'data/raw_data/data/metadata'\n",
    "\n",
    "move_and_remove_files(source_dir=ROOT_DIR / 'data/raw_data/data/metadata/ïεíδÑ «íΩÑ¬Γδ/è¿¡ß', \n",
    "                      destination_dir=destination_dir,)\n",
    "move_and_remove_files(source_dir=ROOT_DIR / 'data/raw_data/data/metadata/ïεíδÑ «íΩÑ¬Γδ/êìæ', \n",
    "                      destination_dir=destination_dir,)\n",
    "\n",
    "shutil.move(src=ROOT_DIR / 'data/raw_data/data/metadata/îÑΓáñá¡¡δÑ/êìæ.zip',\n",
    "            dst=ROOT_DIR / 'data/raw_data/data/metadata')\n",
    "shutil.move(src=ROOT_DIR / 'data/raw_data/data/metadata/îÑΓáñá¡¡δÑ/è¿¡ß.zip',\n",
    "            dst=ROOT_DIR / 'data/raw_data/data/metadata')\n",
    "# Удаляем ненужную îÑΓáñá¡¡δÑ\n",
    "shutil.rmtree(ROOT_DIR / 'data/raw_data/data/metadata/îÑΓáñá¡¡δÑ')"
   ]
  },
  {
   "cell_type": "code",
   "execution_count": null,
   "id": "5d01c4e3",
   "metadata": {},
   "outputs": [],
   "source": [
    "extract_zip_advanced(zip_path=ROOT_DIR / 'data/raw_data/data/Датасет/Пример снимков БПЛА с ббох.zip',\n",
    "                     extract_to=ROOT_DIR / 'data/raw_data/data/bpla',\n",
    "                     remove_after_extract=True,)\n",
    "\n",
    "# После загрузки мы перенесем фотки из Åα¿¼Ñα ß¡¿¼¬«ó üÅïÇ ß íí«σ в корневую bpla\n",
    "source_dir = ROOT_DIR / 'data/raw_data/data/bpla/Åα¿¼Ñα ß¡¿¼¬«ó üÅïÇ ß íí«σ'\n",
    "destination_dir = ROOT_DIR / 'data/raw_data/data/bpla'\n",
    "\n",
    "move_and_remove_files(source_dir=source_dir, \n",
    "                      destination_dir=destination_dir,\n",
    "                      remove_after_move=True)"
   ]
  },
  {
   "cell_type": "code",
   "execution_count": null,
   "id": "0de1796e",
   "metadata": {},
   "outputs": [],
   "source": [
    "shutil.rmtree(ROOT_DIR / 'data/raw_data/data/Датасет')"
   ]
  },
  {
   "cell_type": "code",
   "execution_count": null,
   "id": "ff6b11ee",
   "metadata": {},
   "outputs": [],
   "source": [
    "extract_zip_advanced(zip_path=ROOT_DIR / 'data/raw_data/data/metadata/êìæ.zip',\n",
    "                     extract_to=ROOT_DIR / 'data/raw_data/data/metadata/êìæ',\n",
    "                     remove_after_extract=True,)\n",
    "# Переименовываем в нормальные названия \n",
    "os.rename(src=ROOT_DIR / 'data/raw_data/data/metadata/êìæ',\n",
    "          dst=ROOT_DIR / 'data/raw_data/data/metadata/INC')"
   ]
  },
  {
   "cell_type": "code",
   "execution_count": null,
   "id": "cb4df93d",
   "metadata": {},
   "outputs": [],
   "source": [
    "extract_zip_advanced(zip_path=ROOT_DIR / 'data/raw_data/data/metadata/è¿¡ß.zip',\n",
    "                     extract_to=ROOT_DIR / 'data/raw_data/data/metadata/è¿¡ß',\n",
    "                     remove_after_extract=True,)\n",
    "os.rename(src=ROOT_DIR / 'data/raw_data/data/metadata/è¿¡ß',\n",
    "          dst=ROOT_DIR / 'data/raw_data/data/metadata/Kins')"
   ]
  }
 ],
 "metadata": {
  "kernelspec": {
   "display_name": "hack_digital_transformation",
   "language": "python",
   "name": "python3"
  },
  "language_info": {
   "codemirror_mode": {
    "name": "ipython",
    "version": 3
   },
   "file_extension": ".py",
   "mimetype": "text/x-python",
   "name": "python",
   "nbconvert_exporter": "python",
   "pygments_lexer": "ipython3",
   "version": "3.12.3"
  }
 },
 "nbformat": 4,
 "nbformat_minor": 5
}
