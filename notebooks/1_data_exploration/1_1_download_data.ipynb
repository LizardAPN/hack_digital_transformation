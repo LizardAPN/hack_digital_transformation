{
 "cells": [
  {
   "cell_type": "markdown",
   "id": "2f11dabb",
   "metadata": {},
   "source": [
    "# Подготовка ноутбука "
   ]
  },
  {
   "cell_type": "markdown",
   "id": "85f07fbd",
   "metadata": {},
   "source": [
    "## Пробрасываем magic methods"
   ]
  },
  {
   "cell_type": "code",
   "execution_count": null,
   "id": "97feaebc",
   "metadata": {},
   "outputs": [],
   "source": [
    "%load_ext autoreload\n",
    "%autoreload 2\n",
    "%reload_ext autoreload"
   ]
  },
  {
   "cell_type": "markdown",
   "id": "a5324521",
   "metadata": {},
   "source": [
    "## Imports"
   ]
  },
  {
   "cell_type": "code",
   "execution_count": null,
   "id": "cd10fe31",
   "metadata": {},
   "outputs": [],
   "source": [
    "import pandas as pd \n",
    "import numpy as np \n",
    "from utils.s3 import s3_download_file, get_s3_client, s3_list_files\n",
    "from utils.zip import extract_zip_advanced\n",
    "from utils.useful_functions import extract_coordinates, move_and_remove_files\n",
    "from dotenv import load_dotenv\n",
    "import os \n",
    "from pathlib import Path\n",
    "from warnings import filterwarnings \n",
    "import torch \n",
    "import torchvision\n",
    "from IPython.display import display\n",
    "import shutil"
   ]
  },
  {
   "cell_type": "markdown",
   "id": "8f5e2582",
   "metadata": {},
   "source": [
    "## Нужные переменные "
   ]
  },
  {
   "cell_type": "code",
   "execution_count": null,
   "id": "e7ef1558",
   "metadata": {},
   "outputs": [],
   "source": [
    "ROOT_DIR = Path('../../')\n",
    "load_dotenv()\n",
    "filterwarnings(action='ignore')"
   ]
  },
  {
   "cell_type": "markdown",
   "id": "6dee36be",
   "metadata": {},
   "source": [
    "# Загрузка датафрейма"
   ]
  },
  {
   "cell_type": "markdown",
   "id": "6f57eefa",
   "metadata": {},
   "source": [
    "## Пробрасываем креды"
   ]
  },
  {
   "cell_type": "code",
   "execution_count": null,
   "id": "710e8acd",
   "metadata": {},
   "outputs": [],
   "source": [
    "get_s3_client()"
   ]
  },
  {
   "cell_type": "markdown",
   "id": "19dd2ac7",
   "metadata": {},
   "source": [
    "## Смотрим, что есть в хранилище "
   ]
  },
  {
   "cell_type": "code",
   "execution_count": null,
   "id": "6828103c",
   "metadata": {},
   "outputs": [],
   "source": [
    "s3_list_files()"
   ]
  },
  {
   "cell_type": "markdown",
   "id": "d114282f",
   "metadata": {},
   "source": [
    "## Загружаем из s3"
   ]
  },
  {
   "cell_type": "markdown",
   "id": "eb1efe5c",
   "metadata": {},
   "source": [
    "### Загружаем тренировочный датасет "
   ]
  },
  {
   "cell_type": "code",
   "execution_count": null,
   "id": "3873ab2e",
   "metadata": {},
   "outputs": [],
   "source": [
    "s3_download_file(file_s3_src='data/Датасет.zip', \n",
    "                 file_local_dst=ROOT_DIR / 'data/raw_data/data.zip', \n",
    "                 bucket_name='s3-dvc',)"
   ]
  },
  {
   "cell_type": "markdown",
   "id": "6cb09e4b",
   "metadata": {},
   "source": [
    "### Загружаем таргет "
   ]
  },
  {
   "cell_type": "code",
   "execution_count": null,
   "id": "31fc09c7",
   "metadata": {},
   "outputs": [],
   "source": [
    "s3_download_file(file_s3_src='data/1498CSV.zip', \n",
    "                 file_local_dst=ROOT_DIR / 'data/raw_data/target_build.zip', \n",
    "                 bucket_name='s3-dvc',)"
   ]
  },
  {
   "cell_type": "code",
   "execution_count": null,
   "id": "1b82f2bd",
   "metadata": {},
   "outputs": [],
   "source": [
    "s3_download_file(file_s3_src='data/Реестр камер подъездного видеонаблюдения версия 3.30.zip', \n",
    "                 file_local_dst=ROOT_DIR / 'data/raw_data/target_garb.zip', \n",
    "                 bucket_name='s3-dvc',)"
   ]
  },
  {
   "cell_type": "code",
   "execution_count": null,
   "id": "2606f9ae",
   "metadata": {},
   "outputs": [],
   "source": [
    "s3_download_file(file_s3_src='data/2386XLSX.zip', \n",
    "                 file_local_dst=ROOT_DIR / 'data/raw_data/many_people_target.zip', \n",
    "                 bucket_name='s3-dvc',)"
   ]
  },
  {
   "cell_type": "markdown",
   "id": "f099d5a8",
   "metadata": {},
   "source": [
    "## Извлекаем из zip"
   ]
  },
  {
   "cell_type": "markdown",
   "id": "c94c49eb",
   "metadata": {},
   "source": [
    "### Извлекаем тренировочный датасет "
   ]
  },
  {
   "cell_type": "code",
   "execution_count": null,
   "id": "3dd1a20c",
   "metadata": {},
   "outputs": [],
   "source": [
    "extract_zip_advanced(zip_path=ROOT_DIR / 'data/raw_data/data.zip',\n",
    "                     extract_to=ROOT_DIR / 'data/raw_data/data',\n",
    "                     remove_after_extract=True,)"
   ]
  },
  {
   "cell_type": "code",
   "execution_count": null,
   "id": "7547d287",
   "metadata": {},
   "outputs": [],
   "source": [
    "extract_zip_advanced(zip_path=ROOT_DIR / 'data/raw_data/data/Датасет/Любые объекты.zip',\n",
    "                     extract_to=ROOT_DIR / 'data/raw_data/data/any_objects',\n",
    "                     remove_after_extract=True,)\n",
    "\n",
    "# После загрузки мы перенесем фотки из ïεíδÑ «íΩÑ¬Γδ в корневую any_objects\n",
    "source_dir = ROOT_DIR / 'data/raw_data/data/any_objects/ïεíδÑ «íΩÑ¬Γδ'\n",
    "destination_dir = ROOT_DIR / 'data/raw_data/data/any_objects/'\n",
    "\n",
    "move_and_remove_files(source_dir=source_dir, \n",
    "                      destination_dir=destination_dir,\n",
    "                      remove_after_move=True)\n"
   ]
  },
  {
   "cell_type": "code",
   "execution_count": null,
   "id": "a8820b85",
   "metadata": {},
   "outputs": [],
   "source": [
    "extract_zip_advanced(zip_path=ROOT_DIR / 'data/raw_data/data/Датасет/Метаданные.zip',\n",
    "                     extract_to=ROOT_DIR / 'data/raw_data/data/metadata',\n",
    "                     remove_after_extract=True,)\n",
    "\n",
    "# Переносим в корневую metadata\n",
    "destination_dir = ROOT_DIR / 'data/raw_data/data/metadata'\n",
    "\n",
    "move_and_remove_files(source_dir=ROOT_DIR / 'data/raw_data/data/metadata/ïεíδÑ «íΩÑ¬Γδ/è¿¡ß', \n",
    "                      destination_dir=destination_dir,)\n",
    "move_and_remove_files(source_dir=ROOT_DIR / 'data/raw_data/data/metadata/ïεíδÑ «íΩÑ¬Γδ/êìæ', \n",
    "                      destination_dir=destination_dir,)\n",
    "\n",
    "shutil.move(src=ROOT_DIR / 'data/raw_data/data/metadata/îÑΓáñá¡¡δÑ/êìæ.zip',\n",
    "            dst=ROOT_DIR / 'data/raw_data/data/metadata')\n",
    "shutil.move(src=ROOT_DIR / 'data/raw_data/data/metadata/îÑΓáñá¡¡δÑ/è¿¡ß.zip',\n",
    "            dst=ROOT_DIR / 'data/raw_data/data/metadata')\n",
    "# Удаляем ненужную îÑΓáñá¡¡δÑ\n",
    "shutil.rmtree(ROOT_DIR / 'data/raw_data/data/metadata/îÑΓáñá¡¡δÑ')"
   ]
  },
  {
   "cell_type": "code",
   "execution_count": null,
   "id": "5d01c4e3",
   "metadata": {},
   "outputs": [],
   "source": [
    "extract_zip_advanced(zip_path=ROOT_DIR / 'data/raw_data/data/Датасет/Пример снимков БПЛА с ббох.zip',\n",
    "                     extract_to=ROOT_DIR / 'data/raw_data/data/bpla',\n",
    "                     remove_after_extract=True,)\n",
    "\n",
    "# После загрузки мы перенесем фотки из Åα¿¼Ñα ß¡¿¼¬«ó üÅïÇ ß íí«σ в корневую bpla\n",
    "source_dir = ROOT_DIR / 'data/raw_data/data/bpla/Åα¿¼Ñα ß¡¿¼¬«ó üÅïÇ ß íí«σ'\n",
    "destination_dir = ROOT_DIR / 'data/raw_data/data/bpla'\n",
    "\n",
    "move_and_remove_files(source_dir=source_dir, \n",
    "                      destination_dir=destination_dir,\n",
    "                      remove_after_move=True)"
   ]
  },
  {
   "cell_type": "code",
   "execution_count": null,
   "id": "0de1796e",
   "metadata": {},
   "outputs": [],
   "source": [
    "shutil.rmtree(ROOT_DIR / 'data/raw_data/data/Датасет')"
   ]
  },
  {
   "cell_type": "code",
   "execution_count": null,
   "id": "ff6b11ee",
   "metadata": {},
   "outputs": [],
   "source": [
    "extract_zip_advanced(zip_path=ROOT_DIR / 'data/raw_data/data/metadata/êìæ.zip',\n",
    "                     extract_to=ROOT_DIR / 'data/raw_data/data/metadata/êìæ',\n",
    "                     remove_after_extract=True,)\n",
    "# Переименовываем в нормальные названия \n",
    "os.rename(src=ROOT_DIR / 'data/raw_data/data/metadata/êìæ',\n",
    "          dst=ROOT_DIR / 'data/raw_data/data/metadata/INC')"
   ]
  },
  {
   "cell_type": "code",
   "execution_count": null,
   "id": "cb4df93d",
   "metadata": {},
   "outputs": [],
   "source": [
    "extract_zip_advanced(zip_path=ROOT_DIR / 'data/raw_data/data/metadata/è¿¡ß.zip',\n",
    "                     extract_to=ROOT_DIR / 'data/raw_data/data/metadata/è¿¡ß',\n",
    "                     remove_after_extract=True,)\n",
    "os.rename(src=ROOT_DIR / 'data/raw_data/data/metadata/è¿¡ß',\n",
    "          dst=ROOT_DIR / 'data/raw_data/data/metadata/Kins')"
   ]
  },
  {
   "cell_type": "markdown",
   "id": "f068fefb",
   "metadata": {},
   "source": [
    "### Извлекаем таргет "
   ]
  },
  {
   "cell_type": "code",
   "execution_count": null,
   "id": "7b9df807",
   "metadata": {},
   "outputs": [],
   "source": [
    "extract_zip_advanced(zip_path=ROOT_DIR / 'data/raw_data/target_build.zip',\n",
    "                     extract_to=ROOT_DIR / 'data/raw_data/target_build',\n",
    "                     remove_after_extract=True,)"
   ]
  },
  {
   "cell_type": "code",
   "execution_count": null,
   "id": "5cd0be7e",
   "metadata": {},
   "outputs": [],
   "source": [
    "extract_zip_advanced(zip_path=ROOT_DIR / 'data/raw_data/target_garb.zip',\n",
    "                     extract_to=ROOT_DIR / 'data/raw_data/target_garb',\n",
    "                     remove_after_extract=True,)"
   ]
  },
  {
   "cell_type": "code",
   "execution_count": null,
   "id": "d0b5591b",
   "metadata": {},
   "outputs": [],
   "source": [
    "extract_zip_advanced(zip_path=ROOT_DIR / 'data/raw_data/many_people_target.zip',\n",
    "                     extract_to=ROOT_DIR / 'data/raw_data/many_people_target',\n",
    "                     remove_after_extract=True,)"
   ]
  },
  {
   "cell_type": "markdown",
   "id": "ff45394f",
   "metadata": {},
   "source": [
    "# Объединяем данные "
   ]
  },
  {
   "cell_type": "code",
   "execution_count": null,
   "id": "7eb4b5bb",
   "metadata": {},
   "outputs": [],
   "source": [
    "target_many_people = pd.read_excel(io=ROOT_DIR / 'data/raw_data/many_people_target/data-2386-2025-07-24.xlsx',\n",
    "                                   usecols=['ID', 'geoData'])[1:]"
   ]
  },
  {
   "cell_type": "code",
   "execution_count": null,
   "id": "32cc8392",
   "metadata": {},
   "outputs": [],
   "source": [
    "# Извлекаем координаты и создаем новые колонки\n",
    "target_many_people[['longitude', 'latitude']] = target_many_people['geoData'].apply(\n",
    "    lambda x: pd.Series(extract_coordinates(x))\n",
    ")\n",
    "target_many_people.drop('geoData', axis=1, inplace=True)"
   ]
  },
  {
   "cell_type": "markdown",
   "id": "100c4130",
   "metadata": {},
   "source": [
    "##  Объединяем дворовые камеры с таргетом "
   ]
  },
  {
   "cell_type": "code",
   "execution_count": null,
   "id": "db392fb7",
   "metadata": {},
   "outputs": [],
   "source": [
    "builging_echd = pd.read_excel(io=ROOT_DIR / 'data/raw_data/data/metadata/INC/18-001_gin_building_echd_19.08.25.xlsx',\n",
    "                            usecols=['Имя файла', 'longitude', 'latitude',])"
   ]
  },
  {
   "cell_type": "code",
   "execution_count": null,
   "id": "54aa973b",
   "metadata": {},
   "outputs": [],
   "source": [
    "target_build = pd.read_csv(filepath_or_buffer=ROOT_DIR / 'data/raw_data/target_build/data-1498-2024-11-25.csv',\n",
    "                           usecols=['geoData', 'ID'],\n",
    "                           sep=';',).iloc[1:]"
   ]
  },
  {
   "cell_type": "code",
   "execution_count": null,
   "id": "f430f4d3",
   "metadata": {},
   "outputs": [],
   "source": [
    "# Извлекаем координаты и создаем новые колонки\n",
    "target_build[['longitude', 'latitude']] = target_build['geoData'].apply(\n",
    "    lambda x: pd.Series(extract_coordinates(x))\n",
    ")\n",
    "target_build.drop('geoData', axis=1, inplace=True)"
   ]
  },
  {
   "cell_type": "markdown",
   "id": "077c4de3",
   "metadata": {},
   "source": [
    "##  Объединяем подъездные камеры с таргетом"
   ]
  },
  {
   "cell_type": "code",
   "execution_count": null,
   "id": "7fb3209d",
   "metadata": {},
   "outputs": [],
   "source": [
    "garbage_echd = pd.read_excel(io=ROOT_DIR / 'data/raw_data/data/metadata/INC/19-001_gin_garbage_echd_19.08.25.xlsx',\n",
    "                              usecols=['Имя файла', 'longitude', 'latitude',])"
   ]
  },
  {
   "cell_type": "code",
   "execution_count": null,
   "id": "a5dfdf91",
   "metadata": {},
   "outputs": [],
   "source": [
    "target_garb = pd.read_excel(io=ROOT_DIR / 'data/raw_data/target_garb/data-1500-2025-07-28.xlsx',\n",
    "                           usecols=['geoData', 'ID',],\n",
    "                           ).iloc[1:]"
   ]
  },
  {
   "cell_type": "code",
   "execution_count": null,
   "id": "901132fe",
   "metadata": {},
   "outputs": [],
   "source": [
    "# Извлекаем координаты и создаем новые колонки\n",
    "target_garb[['longitude', 'latitude']] = target_garb['geoData'].apply(\n",
    "    lambda x: pd.Series(extract_coordinates(x))\n",
    ")\n",
    "target_garb.drop('geoData', axis=1, inplace=True)"
   ]
  },
  {
   "cell_type": "code",
   "execution_count": null,
   "id": "e1c6a195",
   "metadata": {},
   "outputs": [],
   "source": [
    "data_garb = pd.merge(target_garb, garbage_echd, on=['longitude', 'latitude'])"
   ]
  }
 ],
 "metadata": {
  "kernelspec": {
   "display_name": "hack_digital_transformation",
   "language": "python",
   "name": "python3"
  },
  "language_info": {
   "codemirror_mode": {
    "name": "ipython",
    "version": 3
   },
   "file_extension": ".py",
   "mimetype": "text/x-python",
   "name": "python",
   "nbconvert_exporter": "python",
   "pygments_lexer": "ipython3",
   "version": "3.12.3"
  }
 },
 "nbformat": 4,
 "nbformat_minor": 5
}
