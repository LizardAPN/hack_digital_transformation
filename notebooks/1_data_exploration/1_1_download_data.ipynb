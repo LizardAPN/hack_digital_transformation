{
 "cells": [
  {
   "cell_type": "markdown",
   "id": "2f11dabb",
   "metadata": {},
   "source": [
    "# Подготовка ноутбука "
   ]
  },
  {
   "cell_type": "markdown",
   "id": "85f07fbd",
   "metadata": {},
   "source": [
    "## Пробрасываем magic methods"
   ]
  },
  {
   "cell_type": "code",
   "execution_count": null,
   "id": "97feaebc",
   "metadata": {},
   "outputs": [],
   "source": [
    "%load_ext autoreload\n",
    "%autoreload 2\n",
    "%reload_ext autoreload"
   ]
  },
  {
   "cell_type": "markdown",
   "id": "a5324521",
   "metadata": {},
   "source": [
    "## Imports"
   ]
  },
  {
   "cell_type": "code",
   "execution_count": null,
   "id": "cd10fe31",
   "metadata": {},
   "outputs": [],
   "source": [
    "import pandas as pd \n",
    "import numpy as np \n",
    "from utils.s3 import s3_download_file, get_s3_client, s3_list_files, s3_upload_file\n",
    "from utils.zip import extract_zip_advanced\n",
    "from utils.useful_functions import extract_coordinates, move_and_remove_files, merge_tables_with_tolerance\n",
    "from dotenv import load_dotenv\n",
    "import os \n",
    "from pathlib import Path\n",
    "from warnings import filterwarnings \n",
    "import torch \n",
    "import torchvision\n",
    "from IPython.display import display\n",
    "import shutil"
   ]
  },
  {
   "cell_type": "markdown",
   "id": "8f5e2582",
   "metadata": {},
   "source": [
    "## Нужные переменные "
   ]
  },
  {
   "cell_type": "code",
   "execution_count": null,
   "id": "e7ef1558",
   "metadata": {},
   "outputs": [],
   "source": [
    "ROOT_DIR = Path('../../')\n",
    "load_dotenv()\n",
    "filterwarnings(action='ignore')"
   ]
  },
  {
   "cell_type": "markdown",
   "id": "6dee36be",
   "metadata": {},
   "source": [
    "# Загрузка датафрейма"
   ]
  },
  {
   "cell_type": "markdown",
   "id": "6f57eefa",
   "metadata": {},
   "source": [
    "## Пробрасываем креды"
   ]
  },
  {
   "cell_type": "code",
   "execution_count": null,
   "id": "710e8acd",
   "metadata": {},
   "outputs": [],
   "source": [
    "get_s3_client()"
   ]
  },
  {
   "cell_type": "markdown",
   "id": "19dd2ac7",
   "metadata": {},
   "source": [
    "## Смотрим, что есть в хранилище "
   ]
  },
  {
   "cell_type": "code",
   "execution_count": null,
   "id": "6828103c",
   "metadata": {},
   "outputs": [],
   "source": [
    "s3_list_files()"
   ]
  },
  {
   "cell_type": "markdown",
   "id": "d114282f",
   "metadata": {},
   "source": [
    "## Загружаем из s3"
   ]
  },
  {
   "cell_type": "markdown",
   "id": "eb1efe5c",
   "metadata": {},
   "source": [
    "### Загружаем тренировочный датасет "
   ]
  },
  {
   "cell_type": "code",
   "execution_count": null,
   "id": "3873ab2e",
   "metadata": {},
   "outputs": [],
   "source": [
    "s3_download_file(file_s3_src='raw_data/Датасет.zip', \n",
    "                 file_local_dst=ROOT_DIR / 'data/raw_data/data.zip', \n",
    "                 bucket_name='s3-dvc',)"
   ]
  },
  {
   "cell_type": "markdown",
   "id": "6cb09e4b",
   "metadata": {},
   "source": [
    "### Загружаем таргет "
   ]
  },
  {
   "cell_type": "code",
   "execution_count": null,
   "id": "31fc09c7",
   "metadata": {},
   "outputs": [],
   "source": [
    "s3_download_file(file_s3_src='raw_data/1498CSV.zip', \n",
    "                 file_local_dst=ROOT_DIR / 'data/raw_data/target_build.zip', \n",
    "                 bucket_name='s3-dvc',)"
   ]
  },
  {
   "cell_type": "code",
   "execution_count": null,
   "id": "1b82f2bd",
   "metadata": {},
   "outputs": [],
   "source": [
    "s3_download_file(file_s3_src='raw_data/Реестр камер подъездного видеонаблюдения версия 3.30.zip', \n",
    "                 file_local_dst=ROOT_DIR / 'data/raw_data/target_garb.zip', \n",
    "                 bucket_name='s3-dvc',)"
   ]
  },
  {
   "cell_type": "code",
   "execution_count": null,
   "id": "2606f9ae",
   "metadata": {},
   "outputs": [],
   "source": [
    "s3_download_file(file_s3_src='raw_data/2386XLSX.zip', \n",
    "                 file_local_dst=ROOT_DIR / 'data/raw_data/many_people_target.zip', \n",
    "                 bucket_name='s3-dvc',)"
   ]
  },
  {
   "cell_type": "markdown",
   "id": "f099d5a8",
   "metadata": {},
   "source": [
    "## Извлекаем из zip"
   ]
  },
  {
   "cell_type": "markdown",
   "id": "c94c49eb",
   "metadata": {},
   "source": [
    "### Извлекаем тренировочный датасет "
   ]
  },
  {
   "cell_type": "code",
   "execution_count": null,
   "id": "3dd1a20c",
   "metadata": {},
   "outputs": [],
   "source": [
    "extract_zip_advanced(zip_path=ROOT_DIR / 'data/raw_data/data.zip',\n",
    "                     extract_to=ROOT_DIR / 'data/raw_data/data',\n",
    "                     remove_after_extract=True,)"
   ]
  },
  {
   "cell_type": "code",
   "execution_count": null,
   "id": "7547d287",
   "metadata": {},
   "outputs": [],
   "source": [
    "extract_zip_advanced(zip_path=ROOT_DIR / 'data/raw_data/data/Датасет/Любые объекты.zip',\n",
    "                     extract_to=ROOT_DIR / 'data/raw_data/data/any_objects',\n",
    "                     remove_after_extract=True,)\n",
    "\n",
    "# После загрузки мы перенесем фотки из ïεíδÑ «íΩÑ¬Γδ в корневую any_objects\n",
    "source_dir = ROOT_DIR / 'data/raw_data/data/any_objects/ïεíδÑ «íΩÑ¬Γδ'\n",
    "destination_dir = ROOT_DIR / 'data/raw_data/data/any_objects/'\n",
    "\n",
    "move_and_remove_files(source_dir=source_dir, \n",
    "                      destination_dir=destination_dir,\n",
    "                      remove_after_move=True)\n"
   ]
  },
  {
   "cell_type": "code",
   "execution_count": null,
   "id": "a8820b85",
   "metadata": {},
   "outputs": [],
   "source": [
    "extract_zip_advanced(zip_path=ROOT_DIR / 'data/raw_data/data/Датасет/Метаданные.zip',\n",
    "                     extract_to=ROOT_DIR / 'data/raw_data/data/metadata',\n",
    "                     remove_after_extract=True,)\n",
    "\n",
    "# Переносим в корневую metadata\n",
    "destination_dir = ROOT_DIR / 'data/raw_data/data/metadata'\n",
    "\n",
    "move_and_remove_files(source_dir=ROOT_DIR / 'data/raw_data/data/metadata/ïεíδÑ «íΩÑ¬Γδ/è¿¡ß', \n",
    "                      destination_dir=destination_dir,)\n",
    "move_and_remove_files(source_dir=ROOT_DIR / 'data/raw_data/data/metadata/ïεíδÑ «íΩÑ¬Γδ/êìæ', \n",
    "                      destination_dir=destination_dir,)\n",
    "\n",
    "shutil.move(src=ROOT_DIR / 'data/raw_data/data/metadata/îÑΓáñá¡¡δÑ/êìæ.zip',\n",
    "            dst=ROOT_DIR / 'data/raw_data/data/metadata')\n",
    "shutil.move(src=ROOT_DIR / 'data/raw_data/data/metadata/îÑΓáñá¡¡δÑ/è¿¡ß.zip',\n",
    "            dst=ROOT_DIR / 'data/raw_data/data/metadata')\n",
    "# Удаляем ненужную îÑΓáñá¡¡δÑ\n",
    "shutil.rmtree(ROOT_DIR / 'data/raw_data/data/metadata/îÑΓáñá¡¡δÑ')"
   ]
  },
  {
   "cell_type": "code",
   "execution_count": null,
   "id": "5d01c4e3",
   "metadata": {},
   "outputs": [],
   "source": [
    "extract_zip_advanced(zip_path=ROOT_DIR / 'data/raw_data/data/Датасет/Пример снимков БПЛА с ббох.zip',\n",
    "                     extract_to=ROOT_DIR / 'data/raw_data/data/bpla',\n",
    "                     remove_after_extract=True,)\n",
    "\n",
    "# После загрузки мы перенесем фотки из Åα¿¼Ñα ß¡¿¼¬«ó üÅïÇ ß íí«σ в корневую bpla\n",
    "source_dir = ROOT_DIR / 'data/raw_data/data/bpla/Åα¿¼Ñα ß¡¿¼¬«ó üÅïÇ ß íí«σ'\n",
    "destination_dir = ROOT_DIR / 'data/raw_data/data/bpla'\n",
    "\n",
    "move_and_remove_files(source_dir=source_dir, \n",
    "                      destination_dir=destination_dir,\n",
    "                      remove_after_move=True)"
   ]
  },
  {
   "cell_type": "code",
   "execution_count": null,
   "id": "0de1796e",
   "metadata": {},
   "outputs": [],
   "source": [
    "shutil.rmtree(ROOT_DIR / 'data/raw_data/data/Датасет')"
   ]
  },
  {
   "cell_type": "code",
   "execution_count": null,
   "id": "ff6b11ee",
   "metadata": {},
   "outputs": [],
   "source": [
    "extract_zip_advanced(zip_path=ROOT_DIR / 'data/raw_data/data/metadata/êìæ.zip',\n",
    "                     extract_to=ROOT_DIR / 'data/raw_data/data/metadata/êìæ',\n",
    "                     remove_after_extract=True,)\n",
    "# Переименовываем в нормальные названия \n",
    "os.rename(src=ROOT_DIR / 'data/raw_data/data/metadata/êìæ',\n",
    "          dst=ROOT_DIR / 'data/raw_data/data/metadata/INC')"
   ]
  },
  {
   "cell_type": "code",
   "execution_count": null,
   "id": "cb4df93d",
   "metadata": {},
   "outputs": [],
   "source": [
    "extract_zip_advanced(zip_path=ROOT_DIR / 'data/raw_data/data/metadata/è¿¡ß.zip',\n",
    "                     extract_to=ROOT_DIR / 'data/raw_data/data/metadata/è¿¡ß',\n",
    "                     remove_after_extract=True,)\n",
    "os.rename(src=ROOT_DIR / 'data/raw_data/data/metadata/è¿¡ß',\n",
    "          dst=ROOT_DIR / 'data/raw_data/data/metadata/Kins')"
   ]
  },
  {
   "cell_type": "markdown",
   "id": "f068fefb",
   "metadata": {},
   "source": [
    "### Извлекаем таргет "
   ]
  },
  {
   "cell_type": "code",
   "execution_count": null,
   "id": "7b9df807",
   "metadata": {},
   "outputs": [],
   "source": [
    "extract_zip_advanced(zip_path=ROOT_DIR / 'data/raw_data/target_build.zip',\n",
    "                     extract_to=ROOT_DIR / 'data/raw_data/target_build',\n",
    "                     remove_after_extract=True,)"
   ]
  },
  {
   "cell_type": "code",
   "execution_count": null,
   "id": "5cd0be7e",
   "metadata": {},
   "outputs": [],
   "source": [
    "extract_zip_advanced(zip_path=ROOT_DIR / 'data/raw_data/target_garb.zip',\n",
    "                     extract_to=ROOT_DIR / 'data/raw_data/target_garb',\n",
    "                     remove_after_extract=True,)"
   ]
  },
  {
   "cell_type": "code",
   "execution_count": null,
   "id": "d0b5591b",
   "metadata": {},
   "outputs": [],
   "source": [
    "extract_zip_advanced(zip_path=ROOT_DIR / 'data/raw_data/many_people_target.zip',\n",
    "                     extract_to=ROOT_DIR / 'data/raw_data/many_people_target',\n",
    "                     remove_after_extract=True,)"
   ]
  },
  {
   "cell_type": "markdown",
   "id": "ff45394f",
   "metadata": {},
   "source": [
    "# Объединяем данные "
   ]
  },
  {
   "cell_type": "markdown",
   "id": "21d4b51b",
   "metadata": {},
   "source": [
    "## Выгружаем камеры в местах большого скопления народа"
   ]
  },
  {
   "cell_type": "code",
   "execution_count": null,
   "id": "7eb4b5bb",
   "metadata": {},
   "outputs": [],
   "source": [
    "target_many_people = pd.read_excel(io=ROOT_DIR / 'data/raw_data/many_people_target/data-2386-2025-07-24.xlsx',\n",
    "                                   usecols=['ID', 'geoData'])[1:]"
   ]
  },
  {
   "cell_type": "code",
   "execution_count": null,
   "id": "32cc8392",
   "metadata": {},
   "outputs": [],
   "source": [
    "# Извлекаем координаты и создаем новые колонки\n",
    "target_many_people[['longitude', 'latitude']] = target_many_people['geoData'].apply(\n",
    "    lambda x: pd.Series(extract_coordinates(x))\n",
    ")\n",
    "target_many_people.drop('geoData', axis=1, inplace=True)"
   ]
  },
  {
   "cell_type": "markdown",
   "id": "100c4130",
   "metadata": {},
   "source": [
    "##  Выгружаем дворовые камеры с таргетом "
   ]
  },
  {
   "cell_type": "code",
   "execution_count": null,
   "id": "db392fb7",
   "metadata": {},
   "outputs": [],
   "source": [
    "builging_echd = pd.read_excel(io=ROOT_DIR / 'data/raw_data/data/metadata/INC/18-001_gin_building_echd_19.08.25.xlsx',\n",
    "                            usecols=['Имя файла', 'longitude', 'latitude',])"
   ]
  },
  {
   "cell_type": "code",
   "execution_count": null,
   "id": "54aa973b",
   "metadata": {},
   "outputs": [],
   "source": [
    "target_build = pd.read_csv(filepath_or_buffer=ROOT_DIR / 'data/raw_data/target_build/data-1498-2024-11-25.csv',\n",
    "                           usecols=['geoData', 'ID'],\n",
    "                           sep=';',).iloc[1:]"
   ]
  },
  {
   "cell_type": "code",
   "execution_count": null,
   "id": "f430f4d3",
   "metadata": {},
   "outputs": [],
   "source": [
    "# Извлекаем координаты и создаем новые колонки\n",
    "target_build[['longitude', 'latitude']] = target_build['geoData'].apply(\n",
    "    lambda x: pd.Series(extract_coordinates(x))\n",
    ")\n",
    "target_build.drop('geoData', axis=1, inplace=True)"
   ]
  },
  {
   "cell_type": "markdown",
   "id": "077c4de3",
   "metadata": {},
   "source": [
    "##  Выгружаем подъездные камеры с таргетом"
   ]
  },
  {
   "cell_type": "code",
   "execution_count": null,
   "id": "7fb3209d",
   "metadata": {},
   "outputs": [],
   "source": [
    "garbage_echd = pd.read_excel(io=ROOT_DIR / 'data/raw_data/data/metadata/INC/19-001_gin_garbage_echd_19.08.25.xlsx',\n",
    "                              usecols=['Имя файла', 'longitude', 'latitude',])"
   ]
  },
  {
   "cell_type": "code",
   "execution_count": null,
   "id": "a5dfdf91",
   "metadata": {},
   "outputs": [],
   "source": [
    "target_garb = pd.read_excel(io=ROOT_DIR / 'data/raw_data/target_garb/data-1500-2025-07-28.xlsx',\n",
    "                           usecols=['geoData', 'ID',],\n",
    "                           ).iloc[1:]"
   ]
  },
  {
   "cell_type": "code",
   "execution_count": null,
   "id": "901132fe",
   "metadata": {},
   "outputs": [],
   "source": [
    "# Извлекаем координаты и создаем новые колонки\n",
    "target_garb[['longitude', 'latitude']] = target_garb['geoData'].apply(\n",
    "    lambda x: pd.Series(extract_coordinates(x))\n",
    ")\n",
    "target_garb.drop('geoData', axis=1, inplace=True)"
   ]
  },
  {
   "cell_type": "markdown",
   "id": "5a5e0dbd",
   "metadata": {},
   "source": [
    "## Объединяем данные"
   ]
  },
  {
   "cell_type": "code",
   "execution_count": 37,
   "id": "64b78726",
   "metadata": {},
   "outputs": [
    {
     "data": {
      "text/plain": [
       "(11239, 3)"
      ]
     },
     "metadata": {},
     "output_type": "display_data"
    },
    {
     "data": {
      "application/vnd.microsoft.datawrangler.viewer.v0+json": {
       "columns": [
        {
         "name": "index",
         "rawType": "int64",
         "type": "integer"
        },
        {
         "name": "Имя файла",
         "rawType": "object",
         "type": "string"
        },
        {
         "name": "latitude",
         "rawType": "float64",
         "type": "float"
        },
        {
         "name": "longitude",
         "rawType": "float64",
         "type": "float"
        }
       ],
       "ref": "826141ea-c655-4a9e-84d2-7effd846bf7e",
       "rows": [
        [
         "0",
         "7ea94089-38cf-4ca7-affc-def9398282c6.jpg",
         "55.6970112365885",
         "37.7401609411382"
        ],
        [
         "1",
         "3d08a02f-6761-4f7a-a444-a18dd7891b3d.jpg",
         "55.77514021977135",
         "37.58310181845392"
        ],
        [
         "2",
         "95cdfd71-26c5-49a7-ad72-d1a02e315947.jpg",
         "55.8221777683838",
         "37.6015759447731"
        ],
        [
         "3",
         "33bf5a5e-8132-4e52-ae46-041efe3aba4f.jpg",
         "55.55282344216123",
         "37.55222953869151"
        ],
        [
         "4",
         "654c8dd6-f024-436c-b306-ef70cf7749ef.jpg",
         "55.80718778878835",
         "37.8041668981476"
        ]
       ],
       "shape": {
        "columns": 3,
        "rows": 5
       }
      },
      "text/html": [
       "<div>\n",
       "<style scoped>\n",
       "    .dataframe tbody tr th:only-of-type {\n",
       "        vertical-align: middle;\n",
       "    }\n",
       "\n",
       "    .dataframe tbody tr th {\n",
       "        vertical-align: top;\n",
       "    }\n",
       "\n",
       "    .dataframe thead th {\n",
       "        text-align: right;\n",
       "    }\n",
       "</style>\n",
       "<table border=\"1\" class=\"dataframe\">\n",
       "  <thead>\n",
       "    <tr style=\"text-align: right;\">\n",
       "      <th></th>\n",
       "      <th>Имя файла</th>\n",
       "      <th>latitude</th>\n",
       "      <th>longitude</th>\n",
       "    </tr>\n",
       "  </thead>\n",
       "  <tbody>\n",
       "    <tr>\n",
       "      <th>0</th>\n",
       "      <td>7ea94089-38cf-4ca7-affc-def9398282c6.jpg</td>\n",
       "      <td>55.697011</td>\n",
       "      <td>37.740161</td>\n",
       "    </tr>\n",
       "    <tr>\n",
       "      <th>1</th>\n",
       "      <td>3d08a02f-6761-4f7a-a444-a18dd7891b3d.jpg</td>\n",
       "      <td>55.775140</td>\n",
       "      <td>37.583102</td>\n",
       "    </tr>\n",
       "    <tr>\n",
       "      <th>2</th>\n",
       "      <td>95cdfd71-26c5-49a7-ad72-d1a02e315947.jpg</td>\n",
       "      <td>55.822178</td>\n",
       "      <td>37.601576</td>\n",
       "    </tr>\n",
       "    <tr>\n",
       "      <th>3</th>\n",
       "      <td>33bf5a5e-8132-4e52-ae46-041efe3aba4f.jpg</td>\n",
       "      <td>55.552823</td>\n",
       "      <td>37.552230</td>\n",
       "    </tr>\n",
       "    <tr>\n",
       "      <th>4</th>\n",
       "      <td>654c8dd6-f024-436c-b306-ef70cf7749ef.jpg</td>\n",
       "      <td>55.807188</td>\n",
       "      <td>37.804167</td>\n",
       "    </tr>\n",
       "  </tbody>\n",
       "</table>\n",
       "</div>"
      ],
      "text/plain": [
       "                                  Имя файла   latitude  longitude\n",
       "0  7ea94089-38cf-4ca7-affc-def9398282c6.jpg  55.697011  37.740161\n",
       "1  3d08a02f-6761-4f7a-a444-a18dd7891b3d.jpg  55.775140  37.583102\n",
       "2  95cdfd71-26c5-49a7-ad72-d1a02e315947.jpg  55.822178  37.601576\n",
       "3  33bf5a5e-8132-4e52-ae46-041efe3aba4f.jpg  55.552823  37.552230\n",
       "4  654c8dd6-f024-436c-b306-ef70cf7749ef.jpg  55.807188  37.804167"
      ]
     },
     "execution_count": 37,
     "metadata": {},
     "output_type": "execute_result"
    }
   ],
   "source": [
    "# Называю real так как это данные которые передали нам орги \n",
    "real_data = pd.concat([garbage_echd, builging_echd], axis=0)\n",
    "display(real_data.shape)\n",
    "real_data.head()"
   ]
  },
  {
   "cell_type": "code",
   "execution_count": 38,
   "id": "9f1566ff",
   "metadata": {},
   "outputs": [
    {
     "data": {
      "text/plain": [
       "(138171, 3)"
      ]
     },
     "metadata": {},
     "output_type": "display_data"
    },
    {
     "data": {
      "application/vnd.microsoft.datawrangler.viewer.v0+json": {
       "columns": [
        {
         "name": "index",
         "rawType": "int64",
         "type": "integer"
        },
        {
         "name": "ID",
         "rawType": "object",
         "type": "string"
        },
        {
         "name": "longitude",
         "rawType": "float64",
         "type": "float"
        },
        {
         "name": "latitude",
         "rawType": "float64",
         "type": "float"
        }
       ],
       "ref": "6e301975-35a8-4485-8504-a322cf023d18",
       "rows": [
        [
         "1",
         "DVN_UZAO_985_3",
         "37.589965064",
         "55.684061132"
        ],
        [
         "2",
         "DVN_UZAO_920_2",
         "37.562047516",
         "55.683930012"
        ],
        [
         "3",
         "DVN_UZAO_912_2",
         "37.560536155",
         "55.686372499"
        ],
        [
         "4",
         "DVN_SVAO_2090_0",
         "37.653519456",
         "55.815467984"
        ],
        [
         "5",
         "DVN_SVAO_2061_2",
         "37.654268193",
         "55.823073453"
        ]
       ],
       "shape": {
        "columns": 3,
        "rows": 5
       }
      },
      "text/html": [
       "<div>\n",
       "<style scoped>\n",
       "    .dataframe tbody tr th:only-of-type {\n",
       "        vertical-align: middle;\n",
       "    }\n",
       "\n",
       "    .dataframe tbody tr th {\n",
       "        vertical-align: top;\n",
       "    }\n",
       "\n",
       "    .dataframe thead th {\n",
       "        text-align: right;\n",
       "    }\n",
       "</style>\n",
       "<table border=\"1\" class=\"dataframe\">\n",
       "  <thead>\n",
       "    <tr style=\"text-align: right;\">\n",
       "      <th></th>\n",
       "      <th>ID</th>\n",
       "      <th>longitude</th>\n",
       "      <th>latitude</th>\n",
       "    </tr>\n",
       "  </thead>\n",
       "  <tbody>\n",
       "    <tr>\n",
       "      <th>1</th>\n",
       "      <td>DVN_UZAO_985_3</td>\n",
       "      <td>37.589965</td>\n",
       "      <td>55.684061</td>\n",
       "    </tr>\n",
       "    <tr>\n",
       "      <th>2</th>\n",
       "      <td>DVN_UZAO_920_2</td>\n",
       "      <td>37.562048</td>\n",
       "      <td>55.683930</td>\n",
       "    </tr>\n",
       "    <tr>\n",
       "      <th>3</th>\n",
       "      <td>DVN_UZAO_912_2</td>\n",
       "      <td>37.560536</td>\n",
       "      <td>55.686372</td>\n",
       "    </tr>\n",
       "    <tr>\n",
       "      <th>4</th>\n",
       "      <td>DVN_SVAO_2090_0</td>\n",
       "      <td>37.653519</td>\n",
       "      <td>55.815468</td>\n",
       "    </tr>\n",
       "    <tr>\n",
       "      <th>5</th>\n",
       "      <td>DVN_SVAO_2061_2</td>\n",
       "      <td>37.654268</td>\n",
       "      <td>55.823073</td>\n",
       "    </tr>\n",
       "  </tbody>\n",
       "</table>\n",
       "</div>"
      ],
      "text/plain": [
       "                ID  longitude   latitude\n",
       "1   DVN_UZAO_985_3  37.589965  55.684061\n",
       "2   DVN_UZAO_920_2  37.562048  55.683930\n",
       "3   DVN_UZAO_912_2  37.560536  55.686372\n",
       "4  DVN_SVAO_2090_0  37.653519  55.815468\n",
       "5  DVN_SVAO_2061_2  37.654268  55.823073"
      ]
     },
     "execution_count": 38,
     "metadata": {},
     "output_type": "execute_result"
    }
   ],
   "source": [
    "# Называю target так как это данные которые мы выгрузили из открытых источников\n",
    "# На них id камеры (нам нужно это для оптимизации алгоритма)\n",
    "target_data = pd.concat([target_build, target_garb, target_many_people], axis=0)\n",
    "display(target_data.shape)\n",
    "target_data.head()"
   ]
  },
  {
   "cell_type": "code",
   "execution_count": null,
   "id": "ecf86f09",
   "metadata": {},
   "outputs": [],
   "source": [
    "data = merge_tables_with_tolerance(target_data, real_data, max_distance_meters=100).drop_duplicates()"
   ]
  },
  {
   "cell_type": "code",
   "execution_count": 36,
   "id": "822fd77e",
   "metadata": {},
   "outputs": [],
   "source": [
    "import pandas as pd"
   ]
  },
  {
   "cell_type": "code",
   "execution_count": null,
   "id": "6bedd051",
   "metadata": {},
   "outputs": [],
   "source": [
    "data.head()"
   ]
  },
  {
   "cell_type": "code",
   "execution_count": null,
   "id": "b969d711",
   "metadata": {},
   "outputs": [],
   "source": [
    "os.mkdir(ROOT_DIR / 'data/processed_data/')\n",
    "data.to_csv(path_or_buf=ROOT_DIR / 'data/processed_data/merged_data.csv',\n",
    "            index=False,)"
   ]
  },
  {
   "cell_type": "markdown",
   "id": "af27c847",
   "metadata": {},
   "source": [
    "# Загружаем в s3"
   ]
  },
  {
   "cell_type": "markdown",
   "id": "b33d249a",
   "metadata": {},
   "source": [
    "## Пробрасываем конект"
   ]
  },
  {
   "cell_type": "code",
   "execution_count": null,
   "id": "842af313",
   "metadata": {},
   "outputs": [],
   "source": [
    "get_s3_client()"
   ]
  },
  {
   "cell_type": "markdown",
   "id": "12c3334a",
   "metadata": {},
   "source": [
    "## Передаем в s3"
   ]
  },
  {
   "cell_type": "code",
   "execution_count": null,
   "id": "4ae36a52",
   "metadata": {},
   "outputs": [],
   "source": [
    "s3_upload_file(file_local_src=ROOT_DIR / 'data/processed_data/merged_data.csv',\n",
    "               file_s3_dst='processed_data/merge_data.csv',\n",
    "               bucket_name='s3-dvc',)"
   ]
  }
 ],
 "metadata": {
  "kernelspec": {
   "display_name": "hack_digital_transformation",
   "language": "python",
   "name": "python3"
  },
  "language_info": {
   "codemirror_mode": {
    "name": "ipython",
    "version": 3
   },
   "file_extension": ".py",
   "mimetype": "text/x-python",
   "name": "python",
   "nbconvert_exporter": "python",
   "pygments_lexer": "ipython3",
   "version": "3.12.3"
  }
 },
 "nbformat": 4,
 "nbformat_minor": 5
}
