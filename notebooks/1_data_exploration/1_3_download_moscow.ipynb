{
 "cells": [
  {
   "cell_type": "markdown",
   "id": "2f11dabb",
   "metadata": {},
   "source": [
    "# Подготовка ноутбука "
   ]
  },
  {
   "cell_type": "markdown",
   "id": "85f07fbd",
   "metadata": {},
   "source": [
    "## Пробрасываем magic methods"
   ]
  },
  {
   "cell_type": "code",
   "execution_count": null,
   "id": "97feaebc",
   "metadata": {},
   "outputs": [],
   "source": [
    "%load_ext autoreload\n",
    "%autoreload 2\n",
    "%reload_ext autoreload"
   ]
  },
  {
   "cell_type": "markdown",
   "id": "a5324521",
   "metadata": {},
   "source": [
    "## Imports"
   ]
  },
  {
   "cell_type": "code",
   "execution_count": null,
   "id": "cd10fe31",
   "metadata": {},
   "outputs": [],
   "source": [
    "import pandas as pd\n",
    "import numpy as np\n",
    "from data.prepare_data import PrepareData\n",
    "from dotenv import load_dotenv\n",
    "import os\n",
    "from pathlib import Path\n",
    "from warnings import filterwarnings\n",
    "import torch\n",
    "import torchvision\n",
    "from torch.utils.data import DataLoader\n",
    "from IPython.display import display\n",
    "import pytesseract\n",
    "import shutil\n",
    "\n",
    "try:\n",
    "    from PIL import Image\n",
    "except ImportError:\n",
    "    import Image\n",
    "import cv2\n",
    "import requests\n",
    "import json\n",
    "import os\n",
    "from datetime import datetime\n",
    "import csv\n",
    "\n",
    "\n",
    "import pandas as pd\n",
    "import numpy as np\n",
    "from dotenv import load_dotenv\n",
    "import os\n",
    "from pathlib import Path\n",
    "from warnings import filterwarnings\n",
    "import torch\n",
    "import torchvision\n",
    "from torch.utils.data import DataLoader\n",
    "from IPython.display import display\n",
    "import pytesseract\n",
    "import shutil\n",
    "\n",
    "try:\n",
    "    from PIL import Image\n",
    "except ImportError:\n",
    "    import Image\n",
    "import cv2\n",
    "import requests\n",
    "import json\n",
    "import os\n",
    "from datetime import datetime\n",
    "import csv\n",
    "import time\n",
    "from concurrent.futures import ThreadPoolExecutor, as_completed\n",
    "from threading import Lock\n",
    "import hashlib\n",
    "from utils.s3_optimize import S3Manager\n",
    "import logging\n",
    "\n",
    "from geo.download_images import MapillaryS3Client"
   ]
  },
  {
   "cell_type": "markdown",
   "id": "8f5e2582",
   "metadata": {},
   "source": [
    "## Нужные переменные "
   ]
  },
  {
   "cell_type": "code",
   "execution_count": null,
   "id": "e7ef1558",
   "metadata": {},
   "outputs": [],
   "source": [
    "# Настройка логирования\n",
    "logging.basicConfig(level=logging.INFO)\n",
    "logger = logging.getLogger(__name__)\n",
    "ROOT_DIR = Path(\"../../\")\n",
    "load_dotenv()\n",
    "filterwarnings(action=\"ignore\")"
   ]
  },
  {
   "cell_type": "markdown",
   "id": "6dee36be",
   "metadata": {},
   "source": [
    "# Загрузка датафрейма"
   ]
  },
  {
   "cell_type": "code",
   "execution_count": null,
   "id": "d490117d",
   "metadata": {},
   "outputs": [],
   "source": [
    "def main():\n",
    "    \"\"\"Пример использования клиента с разбивкой bbox\"\"\"\n",
    "    load_dotenv()\n",
    "\n",
    "    # Инициализация S3 менеджера\n",
    "    s3_manager = S3Manager(max_workers=10, chunk_size=32 * 1024 * 1024)\n",
    "\n",
    "    # Инициализация Mapillary клиента\n",
    "    mapillary_client = MapillaryS3Client(\n",
    "        access_token=os.getenv(\"API_MAPILLARY_KEY\"),\n",
    "        s3_manager=s3_manager,\n",
    "        max_workers=10,\n",
    "        cache_dir=ROOT_DIR / \"logs/download_data/cache_moscow_images\",\n",
    "    )\n",
    "\n",
    "    # Основной bbox для Москвы\n",
    "    moscow_oblast_bbox = [36.866323, 55.334271, 38.564470, 56.191264]\n",
    "    moscow_bbox = [37.366723, 55.579170, 37.841304, 55.907936]\n",
    "\n",
    "    # Вариант 1: Автоматическое разбиение большого bbox\n",
    "    logger.info(\"=== Вариант 1: Автоматическое разбиение большого bbox ===\")\n",
    "    images = mapillary_client.get_images_for_large_area(\n",
    "        bbox=moscow_bbox, max_results_per_bbox=1500, grid_size=20, use_cache=True\n",
    "    )\n",
    "\n",
    "    # Вариант 2: Сетка вокруг центральной точки\n",
    "    # logger.info(\"=== Вариант 2: Сетка вокруг центральной точки ===\")\n",
    "    # moscow_center = (55.7558, 37.6173)  # Кремль\n",
    "    # images = mapillary_client.get_images_around_point(\n",
    "    #     center_lat=moscow_center[0],\n",
    "    #     center_lon=moscow_center[1],\n",
    "    #     grid_radius=3,  # 7x7 = 49 bbox\n",
    "    #     bbox_size=0.01,  # Размер каждого bbox\n",
    "    #     max_results_per_bbox=300\n",
    "    # )\n",
    "\n",
    "    if images:\n",
    "        logger.info(f\"Найдено {len(images)} изображений. Начинаем загрузку в S3...\")\n",
    "\n",
    "        # Загружаем в S3\n",
    "        start_time = time.time()\n",
    "        results = mapillary_client.download_and_upload_to_s3(\n",
    "            images=images, s3_prefix=\"site/raw_data\", image_format=\"JPEG\", quality=80\n",
    "        )\n",
    "\n",
    "        duration = time.time() - start_time\n",
    "        logger.info(f\"Загрузка завершена за {duration:.2f} секунд\")\n",
    "\n",
    "        # Сохраняем метаданные\n",
    "        timestamp = datetime.now().strftime(\"%Y%m%d_%H%M%S\")\n",
    "        mapillary_client.save_metadata_to_csv(\n",
    "            images,\n",
    "            ROOT_DIR / \"data/processed_data/moscow_images.csv\",\n",
    "        )\n",
    "\n",
    "\n",
    "if __name__ == \"__main__\":\n",
    "    main()"
   ]
  },
  {
   "cell_type": "code",
   "execution_count": null,
   "id": "ebc61272",
   "metadata": {},
   "outputs": [],
   "source": [
    "s3_manager = S3Manager(max_workers=4, chunk_size=16 * 1024 * 1024)\n",
    "\n",
    "s3_files = s3_manager.list_files(prefix=\"site/raw_data/\", file_extensions=[\".jpg\", \".jpeg\", \".png\"])\n",
    "download_results = s3_manager.batch_download_files(\n",
    "    s3_files,\n",
    "    local_dir=ROOT_DIR / \"data/processed_data/moscow_image\",\n",
    "    progress_callback=lambda current, total: print(f\"Download progress: {current}/{total}\"),\n",
    ")"
   ]
  }
 ],
 "metadata": {
  "kernelspec": {
   "display_name": "base",
   "language": "python",
   "name": "python3"
  },
  "language_info": {
   "codemirror_mode": {
    "name": "ipython",
    "version": 3
   },
   "file_extension": ".py",
   "mimetype": "text/x-python",
   "name": "python",
   "nbconvert_exporter": "python",
   "pygments_lexer": "ipython3",
   "version": "3.11.13"
  }
 },
 "nbformat": 4,
 "nbformat_minor": 5
}
