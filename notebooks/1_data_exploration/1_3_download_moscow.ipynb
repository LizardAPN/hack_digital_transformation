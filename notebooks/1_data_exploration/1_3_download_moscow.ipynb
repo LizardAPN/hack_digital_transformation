{
 "cells": [
  {
   "cell_type": "markdown",
   "id": "2f11dabb",
   "metadata": {},
   "source": [
    "# Подготовка ноутбука "
   ]
  },
  {
   "cell_type": "markdown",
   "id": "85f07fbd",
   "metadata": {},
   "source": [
    "## Пробрасываем magic methods"
   ]
  },
  {
   "cell_type": "code",
   "execution_count": 1,
   "id": "97feaebc",
   "metadata": {},
   "outputs": [],
   "source": [
    "%load_ext autoreload\n",
    "%autoreload 2\n",
    "%reload_ext autoreload"
   ]
  },
  {
   "cell_type": "markdown",
   "id": "a5324521",
   "metadata": {},
   "source": [
    "## Imports"
   ]
  },
  {
   "cell_type": "code",
   "execution_count": null,
   "id": "cd10fe31",
   "metadata": {},
   "outputs": [],
   "source": [
    "import pandas as pd \n",
    "import numpy as np \n",
    "from data.prepare_data import PrepareData\n",
    "from dotenv import load_dotenv\n",
    "import os \n",
    "from pathlib import Path\n",
    "from warnings import filterwarnings \n",
    "import torch \n",
    "import torchvision\n",
    "from torch.utils.data import DataLoader\n",
    "from IPython.display import display\n",
    "import pytesseract\n",
    "import shutil\n",
    "try:\n",
    "    from PIL import Image\n",
    "except ImportError:\n",
    "     import Image\n",
    "import cv2\n",
    "import requests\n",
    "import json\n",
    "import os\n",
    "from datetime import datetime\n",
    "import csv"
   ]
  },
  {
   "cell_type": "markdown",
   "id": "8f5e2582",
   "metadata": {},
   "source": [
    "## Нужные переменные "
   ]
  },
  {
   "cell_type": "code",
   "execution_count": 37,
   "id": "e7ef1558",
   "metadata": {},
   "outputs": [],
   "source": [
    "ROOT_DIR = Path('../../')\n",
    "load_dotenv()\n",
    "filterwarnings(action='ignore')"
   ]
  },
  {
   "cell_type": "markdown",
   "id": "6dee36be",
   "metadata": {},
   "source": [
    "# Загрузка датафрейма"
   ]
  },
  {
   "cell_type": "code",
   "execution_count": null,
   "id": "f1409284",
   "metadata": {},
   "outputs": [
    {
     "ename": "NameError",
     "evalue": "name 'ROOT_DIR' is not defined",
     "output_type": "error",
     "traceback": [
      "\u001b[31m---------------------------------------------------------------------------\u001b[39m",
      "\u001b[31mNameError\u001b[39m                                 Traceback (most recent call last)",
      "\u001b[36mCell\u001b[39m\u001b[36m \u001b[39m\u001b[32mIn[1]\u001b[39m\u001b[32m, line 7\u001b[39m\n\u001b[32m      4\u001b[39m \u001b[38;5;28;01mfrom\u001b[39;00m\u001b[38;5;250m \u001b[39m\u001b[34;01mdatetime\u001b[39;00m\u001b[38;5;250m \u001b[39m\u001b[38;5;28;01mimport\u001b[39;00m datetime\n\u001b[32m      5\u001b[39m \u001b[38;5;28;01mimport\u001b[39;00m\u001b[38;5;250m \u001b[39m\u001b[34;01mcsv\u001b[39;00m\n\u001b[32m----> \u001b[39m\u001b[32m7\u001b[39m \u001b[38;5;28;43;01mclass\u001b[39;49;00m\u001b[38;5;250;43m \u001b[39;49m\u001b[34;43;01mMapillaryClient\u001b[39;49;00m\u001b[43m:\u001b[49m\n\u001b[32m      8\u001b[39m \u001b[43m    \u001b[49m\u001b[38;5;28;43;01mdef\u001b[39;49;00m\u001b[38;5;250;43m \u001b[39;49m\u001b[34;43m__init__\u001b[39;49m\u001b[43m(\u001b[49m\u001b[38;5;28;43mself\u001b[39;49m\u001b[43m,\u001b[49m\u001b[43m \u001b[49m\u001b[43maccess_token\u001b[49m\u001b[43m)\u001b[49m\u001b[43m:\u001b[49m\n\u001b[32m      9\u001b[39m \u001b[43m        \u001b[49m\u001b[38;5;28;43mself\u001b[39;49m\u001b[43m.\u001b[49m\u001b[43maccess_token\u001b[49m\u001b[43m \u001b[49m\u001b[43m=\u001b[49m\u001b[43m \u001b[49m\u001b[43maccess_token\u001b[49m\n",
      "\u001b[36mCell\u001b[39m\u001b[36m \u001b[39m\u001b[32mIn[1]\u001b[39m\u001b[32m, line 72\u001b[39m, in \u001b[36mMapillaryClient\u001b[39m\u001b[34m()\u001b[39m\n\u001b[32m     59\u001b[39m             writer.writerow({\n\u001b[32m     60\u001b[39m                 \u001b[33m'\u001b[39m\u001b[33mid\u001b[39m\u001b[33m'\u001b[39m: img.get(\u001b[33m'\u001b[39m\u001b[33mid\u001b[39m\u001b[33m'\u001b[39m),\n\u001b[32m     61\u001b[39m                 \u001b[33m'\u001b[39m\u001b[33mlatitude\u001b[39m\u001b[33m'\u001b[39m: geometry.get(\u001b[33m'\u001b[39m\u001b[33mcoordinates\u001b[39m\u001b[33m'\u001b[39m, [\u001b[32m0\u001b[39m, \u001b[32m0\u001b[39m])[\u001b[32m1\u001b[39m],\n\u001b[32m   (...)\u001b[39m\u001b[32m     67\u001b[39m                 \u001b[38;5;66;03m#'creator': img.get('creator', {}).get('username') if img.get('creator') else None\u001b[39;00m\n\u001b[32m     68\u001b[39m             })\n\u001b[32m     70\u001b[39m     \u001b[38;5;28mprint\u001b[39m(\u001b[33mf\u001b[39m\u001b[33m\"\u001b[39m\u001b[33mМетаданные сохранены в \u001b[39m\u001b[38;5;132;01m{\u001b[39;00mfilepath\u001b[38;5;132;01m}\u001b[39;00m\u001b[33m\"\u001b[39m)\n\u001b[32m---> \u001b[39m\u001b[32m72\u001b[39m \u001b[38;5;28;01mdef\u001b[39;00m\u001b[38;5;250m \u001b[39m\u001b[34mdownload_images_batch\u001b[39m(\u001b[38;5;28mself\u001b[39m, images, download_folder=\u001b[43mROOT_DIR\u001b[49m / \u001b[33m\"\u001b[39m\u001b[33mdata/processed_data/moscow_mapillary\u001b[39m\u001b[33m\"\u001b[39m):\n\u001b[32m     73\u001b[39m \u001b[38;5;250m    \u001b[39m\u001b[33;03m\"\"\"Пакетная загрузка изображений\"\"\"\u001b[39;00m\n\u001b[32m     74\u001b[39m     os.makedirs(download_folder, exist_ok=\u001b[38;5;28;01mTrue\u001b[39;00m)\n",
      "\u001b[31mNameError\u001b[39m: name 'ROOT_DIR' is not defined"
     ]
    }
   ],
   "source": [
    "class MapillaryClient:\n",
    "    def __init__(self, access_token):\n",
    "        self.access_token = access_token\n",
    "        self.base_url = \"https://graph.mapillary.com\"\n",
    "        self.headers = {\"Authorization\": f\"Bearer {access_token}\"}\n",
    "    \n",
    "    def get_images_in_bbox(self, bbox, max_results=1000):\n",
    "        \"\"\"\n",
    "        bbox: [min_lon, min_lat, max_lon, max_lat]\n",
    "        \"\"\"\n",
    "        all_images = []\n",
    "        url = f\"{self.base_url}/images\"\n",
    "        \n",
    "        params = {\n",
    "            'fields': 'id,geometry,compass_angle,captured_at,altitude,sequence,creator',\n",
    "            'access_token': self.access_token,\n",
    "            'limit': min(max_results, 2000),  # Максимальный лимит API\n",
    "            'bbox': ','.join(map(str, bbox))\n",
    "        }\n",
    "        \n",
    "        try:\n",
    "            response = requests.get(url, params=params)\n",
    "            response.raise_for_status()\n",
    "            data = response.json()\n",
    "            \n",
    "            if 'data' in data:\n",
    "                return data['data']\n",
    "            else:\n",
    "                print(\"Неожиданный формат ответа:\", data)\n",
    "                return []\n",
    "                \n",
    "        except requests.exceptions.RequestException as e:\n",
    "            print(f\"Ошибка запроса: {e}\")\n",
    "            return []\n",
    "    \n",
    "    def save_metadata_to_csv(self, images, filename):\n",
    "        \"\"\"Сохранение метаданных в CSV\"\"\"\n",
    "        if not images:\n",
    "            print(\"Нет данных для сохранения\")\n",
    "            return\n",
    "        \n",
    "        os.makedirs('mapillary_data', exist_ok=True)\n",
    "        filepath = f'mapillary_data/{filename}'\n",
    "        \n",
    "        with open(filepath, 'w', newline='', encoding='utf-8') as csvfile:\n",
    "            fieldnames = ['id', 'latitude', 'longitude', 'captured_at', \n",
    "                         'compass_angle', 'altitude', 'sequence_id', 'creator']\n",
    "            writer = csv.DictWriter(csvfile, fieldnames=fieldnames)\n",
    "            \n",
    "            writer.writeheader()\n",
    "            for img in images:\n",
    "                geometry = img.get('geometry', {})\n",
    "                writer.writerow({\n",
    "                    'id': img.get('id'),\n",
    "                    'latitude': geometry.get('coordinates', [0, 0])[1],\n",
    "                    'longitude': geometry.get('coordinates', [0, 0])[0],\n",
    "                })\n",
    "        \n",
    "        print(f\"Метаданные сохранены в {filepath}\")\n",
    "    \n",
    "    def download_images_batch(self, images, download_folder=ROOT_DIR / \"data/processed_data/moscow_mapillary\"):\n",
    "        \"\"\"Пакетная загрузка изображений\"\"\"\n",
    "        os.makedirs(download_folder, exist_ok=True)\n",
    "        \n",
    "        downloaded = 0\n",
    "        for i, img in enumerate(images):\n",
    "            try:\n",
    "                image_id = img.get('id')\n",
    "                if self.download_single_image(image_id, f\"{download_folder}/{image_id}.jpg\"):\n",
    "                    downloaded += 1\n",
    "                \n",
    "                # Ограничение скорости чтобы не перегружать API\n",
    "                if i % 10 == 0:\n",
    "                    print(f\"Загружено {downloaded}/{len(images)} изображений\")\n",
    "                    \n",
    "            except Exception as e:\n",
    "                print(f\"Ошибка при загрузке {image_id}: {e}\")\n",
    "                continue\n",
    "        \n",
    "        print(f\"Загрузка завершена. Успешно: {downloaded}/{len(images)}\")\n",
    "    \n",
    "    def download_single_image(self, image_id, save_path):\n",
    "        \"\"\"Загрузка одного изображения\"\"\"\n",
    "        try:\n",
    "            # Получаем детальную информацию с URL изображения\n",
    "            url = f\"{self.base_url}/{image_id}\"\n",
    "            params = {\n",
    "                'fields': 'thumb_2048_url',\n",
    "                'access_token': self.access_token\n",
    "            }\n",
    "            \n",
    "            response = requests.get(url, params=params)\n",
    "            data = response.json()\n",
    "            \n",
    "            image_url = data.get('thumb_2048_url')\n",
    "            if image_url:\n",
    "                img_response = requests.get(image_url)\n",
    "                with open(save_path, 'wb') as f:\n",
    "                    f.write(img_response.content)\n",
    "                return True\n",
    "            else:\n",
    "                print(f\"URL изображения не найден для {image_id}\")\n",
    "                return False\n",
    "                \n",
    "        except Exception as e:\n",
    "            print(f\"Ошибка при загрузке {image_id}: {e}\")\n",
    "            return False\n",
    "\n",
    "# Пример использования\n",
    "def main():\n",
    "    # Инициализация клиента\n",
    "    ACCESS_TOKEN = os.getenv('API_MAPILLARY_KEY')\n",
    "    client = MapillaryClient(ACCESS_TOKEN)\n",
    "\n",
    "    # Bounding box для центра Москвы\n",
    "    moscow_bbox = [37.149337, 55.9702540, 37.161783, 55.9770450]\n",
    "    \n",
    "    print(\"Получение изображений Mapillary для Москвы...\")\n",
    "    images = client.get_images_in_bbox(moscow_bbox, max_results=500)\n",
    "    \n",
    "    if images:\n",
    "        print(f\"Найдено {len(images)} изображений\")\n",
    "        \n",
    "        # Сохраняем метаданные\n",
    "        client.save_metadata_to_csv(images, ROOT_DIR / \"data/processed_data/moscow_mapillary.csv\")\n",
    "        \n",
    "        # Загружаем изображения (опционально)\n",
    "        download_choice = input(\"Загрузить изображения? (y/n): \")\n",
    "        if download_choice.lower() == 'y':\n",
    "            client.download_images_batch(images)  # Первые 50 для примера\n",
    "    else:\n",
    "        print(\"Изображения не найдены\")\n",
    "\n",
    "if __name__ == \"__main__\":\n",
    "    main()"
   ]
  }
 ],
 "metadata": {
  "kernelspec": {
   "display_name": "hack_digital_transformation",
   "language": "python",
   "name": "python3"
  },
  "language_info": {
   "codemirror_mode": {
    "name": "ipython",
    "version": 3
   },
   "file_extension": ".py",
   "mimetype": "text/x-python",
   "name": "python",
   "nbconvert_exporter": "python",
   "pygments_lexer": "ipython3",
   "version": "3.12.3"
  }
 },
 "nbformat": 4,
 "nbformat_minor": 5
}
