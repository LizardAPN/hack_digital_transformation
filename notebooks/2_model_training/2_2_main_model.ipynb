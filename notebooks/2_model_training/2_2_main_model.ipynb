{
 "cells": [
  {
   "cell_type": "markdown",
   "id": "2f11dabb",
   "metadata": {},
   "source": [
    "# Подготовка ноутбука "
   ]
  },
  {
   "cell_type": "markdown",
   "id": "85f07fbd",
   "metadata": {},
   "source": [
    "## Пробрасываем magic methods"
   ]
  },
  {
   "cell_type": "code",
   "execution_count": 1,
   "id": "97feaebc",
   "metadata": {},
   "outputs": [],
   "source": [
    "%load_ext autoreload\n",
    "%autoreload 2\n",
    "%reload_ext autoreload"
   ]
  },
  {
   "cell_type": "markdown",
   "id": "a5324521",
   "metadata": {},
   "source": [
    "## Imports"
   ]
  },
  {
   "cell_type": "code",
   "execution_count": 2,
   "id": "cd10fe31",
   "metadata": {},
   "outputs": [],
   "source": [
    "import pandas as pd\n",
    "import numpy as np\n",
    "from data.prepare_data import PrepareData\n",
    "from dotenv import load_dotenv\n",
    "import os\n",
    "from pathlib import Path\n",
    "from warnings import filterwarnings\n",
    "import torch\n",
    "import torchvision\n",
    "from torch.utils.data import DataLoader\n",
    "from IPython.display import display\n",
    "import pytesseract\n",
    "import shutil\n",
    "\n",
    "try:\n",
    "    from PIL import Image\n",
    "except ImportError:\n",
    "    import Image\n",
    "import cv2"
   ]
  },
  {
   "cell_type": "markdown",
   "id": "8f5e2582",
   "metadata": {},
   "source": [
    "## Нужные переменные "
   ]
  },
  {
   "cell_type": "code",
   "execution_count": 3,
   "id": "e7ef1558",
   "metadata": {},
   "outputs": [],
   "source": [
    "ROOT_DIR = Path(\"../../\")\n",
    "load_dotenv()\n",
    "filterwarnings(action=\"ignore\")"
   ]
  },
  {
   "cell_type": "markdown",
   "id": "6dee36be",
   "metadata": {},
   "source": [
    "# Загрузка датафрейма"
   ]
  },
  {
   "cell_type": "code",
   "execution_count": null,
   "id": "3fe3a4b5",
   "metadata": {},
   "outputs": [],
   "source": []
  }
 ],
 "metadata": {
  "kernelspec": {
   "display_name": "hack_digital_transformation",
   "language": "python",
   "name": "python3"
  },
  "language_info": {
   "codemirror_mode": {
    "name": "ipython",
    "version": 3
   },
   "file_extension": ".py",
   "mimetype": "text/x-python",
   "name": "python",
   "nbconvert_exporter": "python",
   "pygments_lexer": "ipython3",
   "version": "3.12.3"
  }
 },
 "nbformat": 4,
 "nbformat_minor": 5
}
