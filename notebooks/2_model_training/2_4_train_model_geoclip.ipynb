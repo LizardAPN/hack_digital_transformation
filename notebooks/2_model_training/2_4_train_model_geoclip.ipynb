{
 "cells": [
  {
   "cell_type": "code",
   "execution_count": null,
   "id": "4827dddb",
   "metadata": {},
   "outputs": [],
   "source": [
    "from geoclip.model import image_encoder as ge_image\n",
    "from geoclip.model import location_encoder as ge_loc\n",
    "from models.trainer import train_and_evaluate\n",
    "\n",
    "image_encoder = ge_image.ImageEncoder()\n",
    "loc_encoder = ge_loc.LocationEncoder()\n",
    "\n",
    "\n",
    "\n",
    "TRAIN_CSV = #Ссылка на train в таком формате path,lat,lon\n",
    "TEST_CSV = #Ссылка на test в таком формате path,lat,lon\n",
    "OUT_DIR = './checkpoints_notebook'\n",
    "EPOCHS = 3\n",
    "BATCH_SIZE = 32\n",
    "LR = 3e-5\n",
    "EMB_DIM = 512\n",
    "USE_REPO_ENCODERS = False\n",
    "USE_QUEUE = False\n",
    "\n",
    "\n",
    "results = train_and_evaluate(\n",
    "        image_encoder=image_encoder,\n",
    "        loc_encoder=loc_encoder,\n",
    "        train_csv=TRAIN_CSV,\n",
    "        test_csv=TEST_CSV,\n",
    "        out_dir=OUT_DIR,\n",
    "        epochs=EPOCHS,\n",
    "        batch_size=BATCH_SIZE,\n",
    "        lr=LR,\n",
    "        use_queue=USE_QUEUE\n",
    "    )\n",
    "\n",
    "metrics = results['last_metrics']\n",
    "print('\\n=== Metrics ===')\n",
    "for k, v in metrics.items():\n",
    "    print(k, v)"
   ]
  },
  {
   "cell_type": "code",
   "execution_count": null,
   "id": "d820eb69",
   "metadata": {},
   "outputs": [],
   "source": []
  }
 ],
 "metadata": {
  "kernelspec": {
   "display_name": "hack_digital_transformation",
   "language": "python",
   "name": "python3"
  },
  "language_info": {
   "codemirror_mode": {
    "name": "ipython",
    "version": 3
   },
   "file_extension": ".py",
   "mimetype": "text/x-python",
   "name": "python",
   "nbconvert_exporter": "python",
   "pygments_lexer": "ipython3",
   "version": "3.12.11"
  }
 },
 "nbformat": 4,
 "nbformat_minor": 5
}
