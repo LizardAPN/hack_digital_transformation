{
 "cells": [
  {
   "cell_type": "code",
   "execution_count": null,
   "id": "4827dddb",
   "metadata": {},
   "outputs": [
    {
     "name": "stderr",
     "output_type": "stream",
     "text": [
      "Epoch 1/3: 100%|██████████| 1/1 [00:06<00:00,  6.16s/batch]\n"
     ]
    },
    {
     "name": "stdout",
     "output_type": "stream",
     "text": [
      "Epoch 1 completed, average loss: 2.439969\n"
     ]
    },
    {
     "name": "stderr",
     "output_type": "stream",
     "text": [
      "Epoch 2/3: 100%|██████████| 1/1 [00:06<00:00,  6.27s/batch]\n"
     ]
    },
    {
     "name": "stdout",
     "output_type": "stream",
     "text": [
      "Epoch 2 completed, average loss: 2.107102\n"
     ]
    },
    {
     "name": "stderr",
     "output_type": "stream",
     "text": [
      "Epoch 3/3: 100%|██████████| 1/1 [00:08<00:00,  8.09s/batch]\n"
     ]
    },
    {
     "name": "stdout",
     "output_type": "stream",
     "text": [
      "Epoch 3 completed, average loss: 1.840146\n"
     ]
    },
    {
     "name": "stderr",
     "output_type": "stream",
     "text": [
      "Encoding train coords: 100%|██████████| 1/1 [00:00<00:00, 49.60block/s]\n",
      "Encoding test images: 100%|██████████| 7/7 [10:13<00:00, 87.65s/batch] \n"
     ]
    },
    {
     "name": "stdout",
     "output_type": "stream",
     "text": [
      "\n",
      "=== Metrics ===\n",
      "Coverage_with_coords_% 100.0\n",
      "Top1_Distance_mean_m 19150.716598283827\n",
      "Top1_Distance_median_m 18486.759429614227\n",
      "Top1_Distance_std_m 9436.194419529222\n",
      "Geo_Recall@1_≤25m 0.0\n",
      "Geo_MRR@1_≤25m 0.0\n",
      "Geo_Recall@5_≤25m 0.0\n",
      "Geo_MRR@5_≤25m 0.0\n",
      "Geo_Recall@10_≤25m 0.0\n",
      "Geo_MRR@10_≤25m 0.0\n",
      "Geo_Recall@1_≤50m 0.0\n",
      "Geo_MRR@1_≤50m 0.0\n",
      "Geo_Recall@5_≤50m 0.0\n",
      "Geo_MRR@5_≤50m 0.0\n",
      "Geo_Recall@10_≤50m 0.0\n",
      "Geo_MRR@10_≤50m 0.0\n",
      "Geo_Recall@1_≤100m 0.0012970168612191958\n",
      "Geo_MRR@1_≤100m 0.0012970168612191958\n",
      "Geo_Recall@5_≤100m 0.0025940337224383916\n",
      "Geo_MRR@5_≤100m 0.0019455252918287938\n",
      "Geo_Recall@10_≤100m 0.0025940337224383916\n",
      "Geo_MRR@10_≤100m 0.0019455252918287938\n"
     ]
    }
   ],
   "source": [
    "from geoclip.model import image_encoder as ge_image\n",
    "from geoclip.model import location_encoder as ge_loc\n",
    "from models.trainer import train_and_evaluate\n",
    "\n",
    "image_encoder = ge_image.ImageEncoder()\n",
    "loc_encoder = ge_loc.LocationEncoder()\n",
    "\n",
    "\n",
    "\n",
    "TRAIN_CSV = #Ссылка на train в таком формате path,lat,lon\n",
    "TEST_CSV = #Ссылка на test в таком формате path,lat,lon\n",
    "OUT_DIR = './checkpoints_notebook'\n",
    "EPOCHS = 3\n",
    "BATCH_SIZE = 32\n",
    "LR = 3e-5\n",
    "EMB_DIM = 512\n",
    "USE_REPO_ENCODERS = False\n",
    "USE_QUEUE = False\n",
    "\n",
    "\n",
    "results = train_and_evaluate(\n",
    "        image_encoder=image_encoder,\n",
    "        loc_encoder=loc_encoder,\n",
    "        train_csv=TRAIN_CSV,\n",
    "        test_csv=TEST_CSV,\n",
    "        out_dir=OUT_DIR,\n",
    "        epochs=EPOCHS,\n",
    "        batch_size=BATCH_SIZE,\n",
    "        lr=LR,\n",
    "        use_queue=USE_QUEUE\n",
    "    )\n",
    "\n",
    "metrics = results['last_metrics']\n",
    "print('\\n=== Metrics ===')\n",
    "for k, v in metrics.items():\n",
    "    print(k, v)"
   ]
  },
  {
   "cell_type": "code",
   "execution_count": null,
   "id": "d820eb69",
   "metadata": {},
   "outputs": [],
   "source": []
  }
 ],
 "metadata": {
  "kernelspec": {
   "display_name": "hack_digital_transformation",
   "language": "python",
   "name": "python3"
  },
  "language_info": {
   "codemirror_mode": {
    "name": "ipython",
    "version": 3
   },
   "file_extension": ".py",
   "mimetype": "text/x-python",
   "name": "python",
   "nbconvert_exporter": "python",
   "pygments_lexer": "ipython3",
   "version": "3.12.11"
  }
 },
 "nbformat": 4,
 "nbformat_minor": 5
}
